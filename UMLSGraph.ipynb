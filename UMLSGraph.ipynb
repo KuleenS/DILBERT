{
 "cells": [
  {
   "cell_type": "code",
   "execution_count": 1,
   "metadata": {},
   "outputs": [],
   "source": [
    "import mysql.connector\n",
    "import pandas as pd"
   ]
  },
  {
   "cell_type": "code",
   "execution_count": 2,
   "metadata": {},
   "outputs": [
    {
     "ename": "SyntaxError",
     "evalue": "invalid syntax (664613118.py, line 1)",
     "output_type": "error",
     "traceback": [
      "\u001b[0;36m  File \u001b[0;32m\"/tmp/ipykernel_13102/664613118.py\"\u001b[0;36m, line \u001b[0;32m1\u001b[0m\n\u001b[0;31m    MRCONSO -\u001b[0m\n\u001b[0m              ^\u001b[0m\n\u001b[0;31mSyntaxError\u001b[0m\u001b[0;31m:\u001b[0m invalid syntax\n"
     ]
    }
   ],
   "source": [
    "MRCONSO - \n",
    "\n",
    "add distinct "
   ]
  },
  {
   "cell_type": "code",
   "execution_count": 3,
   "metadata": {},
   "outputs": [],
   "source": [
    "#SELECT DISTINCT MRREL.CUI1, MRCONSO.STR, MRREL.CUI2, MRREL.REL FROM MRREL JOIN MRCONSO ON (MRREL.CUI1 = MRCONSO.CUI) WHERE REL = 'PAR' or REL='CHD'"
   ]
  },
  {
   "cell_type": "code",
   "execution_count": 2,
   "metadata": {},
   "outputs": [],
   "source": [
    "query = (\"SELECT DISTINCT MRREL.AUI2, MRREL.AUI1, MRREL.REL FROM MRREL WHERE REL = 'PAR' or REL='CHD'\")\n",
    "conn = mysql.connector.connect(user='umls', password='umls', database='umls2019ab', host='138.26.120.27')\n",
    "cursor = conn.cursor()"
   ]
  },
  {
   "cell_type": "code",
   "execution_count": null,
   "metadata": {},
   "outputs": [],
   "source": [
    "\n",
    "Join MRCONSO and MRCONSO.code to map litcoin terms with "
   ]
  },
  {
   "cell_type": "code",
   "execution_count": null,
   "metadata": {},
   "outputs": [],
   "source": []
  },
  {
   "cell_type": "code",
   "execution_count": 3,
   "metadata": {},
   "outputs": [],
   "source": [
    "cursor.execute(query)"
   ]
  },
  {
   "cell_type": "code",
   "execution_count": 4,
   "metadata": {},
   "outputs": [],
   "source": [
    "total_relations_umls = []\n",
    "for x in cursor:\n",
    "    total_relations_umls.append(x)"
   ]
  },
  {
   "cell_type": "code",
   "execution_count": 7,
   "metadata": {},
   "outputs": [],
   "source": [
    "df = pd.DataFrame(total_relations_umls, columns =['FirstAUI', 'SecondAUI', 'REL'])"
   ]
  },
  {
   "cell_type": "code",
   "execution_count": 6,
   "metadata": {},
   "outputs": [],
   "source": [
    "df.to_csv('RelationsUMLS')"
   ]
  },
  {
   "cell_type": "code",
   "execution_count": 13,
   "metadata": {},
   "outputs": [],
   "source": [
    "query2 = ('SELECT DISTINCT MRCONSO.AUI, MRCONSO.STR FROM MRCONSO WHERE ISPREF = \"Y\"')"
   ]
  },
  {
   "cell_type": "code",
   "execution_count": 14,
   "metadata": {},
   "outputs": [],
   "source": [
    "cursor.execute(query2)"
   ]
  },
  {
   "cell_type": "code",
   "execution_count": 15,
   "metadata": {},
   "outputs": [],
   "source": [
    "names_of_CUIS = []\n",
    "for x in cursor:\n",
    "    names_of_CUIS.append(x)"
   ]
  },
  {
   "cell_type": "code",
   "execution_count": 16,
   "metadata": {},
   "outputs": [],
   "source": [
    "df = pd.DataFrame(names_of_CUIS, columns =['AUI', 'NAME'])"
   ]
  },
  {
   "cell_type": "code",
   "execution_count": 17,
   "metadata": {},
   "outputs": [],
   "source": [
    "df.to_csv('NamesUMLS')"
   ]
  },
  {
   "cell_type": "code",
   "execution_count": 18,
   "metadata": {},
   "outputs": [],
   "source": [
    "del df"
   ]
  },
  {
   "cell_type": "code",
   "execution_count": 19,
   "metadata": {},
   "outputs": [],
   "source": [
    "df1 = pd.read_csv('NamesUMLS')"
   ]
  },
  {
   "cell_type": "code",
   "execution_count": 20,
   "metadata": {},
   "outputs": [],
   "source": [
    "df1 = df1.drop_duplicates('AUI')"
   ]
  },
  {
   "cell_type": "code",
   "execution_count": 21,
   "metadata": {},
   "outputs": [],
   "source": [
    "df2 = pd.read_csv('RelationsUMLS')"
   ]
  },
  {
   "cell_type": "code",
   "execution_count": 22,
   "metadata": {},
   "outputs": [],
   "source": [
    "result = df2.merge(df1, left_on=\"FirstAUI\", right_on=\"AUI\")"
   ]
  },
  {
   "cell_type": "code",
   "execution_count": 23,
   "metadata": {},
   "outputs": [],
   "source": [
    "result = result.drop(['Unnamed: 0_x','Unnamed: 0_y', 'AUI'], axis=1)"
   ]
  },
  {
   "cell_type": "code",
   "execution_count": 24,
   "metadata": {},
   "outputs": [],
   "source": [
    "result = result.groupby(['FirstAUI','REL', 'NAME'])['SecondAUI'].apply(list).reset_index()"
   ]
  },
  {
   "cell_type": "code",
   "execution_count": 25,
   "metadata": {},
   "outputs": [],
   "source": [
    "result.to_csv('UMLSgraph.csv')"
   ]
  },
  {
   "cell_type": "code",
   "execution_count": 26,
   "metadata": {},
   "outputs": [],
   "source": [
    "df = pd.read_csv('UMLSgraph.csv')"
   ]
  },
  {
   "cell_type": "code",
   "execution_count": 27,
   "metadata": {},
   "outputs": [
    {
     "data": {
      "text/html": [
       "<div>\n",
       "<style scoped>\n",
       "    .dataframe tbody tr th:only-of-type {\n",
       "        vertical-align: middle;\n",
       "    }\n",
       "\n",
       "    .dataframe tbody tr th {\n",
       "        vertical-align: top;\n",
       "    }\n",
       "\n",
       "    .dataframe thead th {\n",
       "        text-align: right;\n",
       "    }\n",
       "</style>\n",
       "<table border=\"1\" class=\"dataframe\">\n",
       "  <thead>\n",
       "    <tr style=\"text-align: right;\">\n",
       "      <th></th>\n",
       "      <th>FirstAUI</th>\n",
       "      <th>REL</th>\n",
       "      <th>NAME</th>\n",
       "      <th>SecondAUI</th>\n",
       "    </tr>\n",
       "  </thead>\n",
       "  <tbody>\n",
       "    <tr>\n",
       "      <th>0</th>\n",
       "      <td>A0000641</td>\n",
       "      <td>CHD</td>\n",
       "      <td>Sepsis</td>\n",
       "      <td>[A2198561]</td>\n",
       "    </tr>\n",
       "    <tr>\n",
       "      <th>1</th>\n",
       "      <td>A0000641</td>\n",
       "      <td>PAR</td>\n",
       "      <td>Sepsis</td>\n",
       "      <td>[A16562618, A16574374, A16574375, A16586214, A...</td>\n",
       "    </tr>\n",
       "    <tr>\n",
       "      <th>2</th>\n",
       "      <td>A0001632</td>\n",
       "      <td>CHD</td>\n",
       "      <td>Disease of esophagus</td>\n",
       "      <td>[A0911980, A0916973]</td>\n",
       "    </tr>\n",
       "    <tr>\n",
       "      <th>3</th>\n",
       "      <td>A0002116</td>\n",
       "      <td>CHD</td>\n",
       "      <td>Arizona</td>\n",
       "      <td>[A1263866]</td>\n",
       "    </tr>\n",
       "    <tr>\n",
       "      <th>4</th>\n",
       "      <td>A0002116</td>\n",
       "      <td>PAR</td>\n",
       "      <td>Arizona</td>\n",
       "      <td>[A30390551, A1245199]</td>\n",
       "    </tr>\n",
       "    <tr>\n",
       "      <th>...</th>\n",
       "      <td>...</td>\n",
       "      <td>...</td>\n",
       "      <td>...</td>\n",
       "      <td>...</td>\n",
       "    </tr>\n",
       "    <tr>\n",
       "      <th>3317417</th>\n",
       "      <td>A9422052</td>\n",
       "      <td>PAR</td>\n",
       "      <td>Poisoning due to venomous spider</td>\n",
       "      <td>[A3185832, A16955727, A3059224, A22807989, A23...</td>\n",
       "    </tr>\n",
       "    <tr>\n",
       "      <th>3317418</th>\n",
       "      <td>A9422054</td>\n",
       "      <td>CHD</td>\n",
       "      <td>Sneezing symptom</td>\n",
       "      <td>[A2886675, A6929082]</td>\n",
       "    </tr>\n",
       "    <tr>\n",
       "      <th>3317419</th>\n",
       "      <td>A9422054</td>\n",
       "      <td>PAR</td>\n",
       "      <td>Sneezing symptom</td>\n",
       "      <td>[A22845861]</td>\n",
       "    </tr>\n",
       "    <tr>\n",
       "      <th>3317420</th>\n",
       "      <td>A9422056</td>\n",
       "      <td>CHD</td>\n",
       "      <td>Temporal measure of symptom</td>\n",
       "      <td>[A22903942, A3749215]</td>\n",
       "    </tr>\n",
       "    <tr>\n",
       "      <th>3317421</th>\n",
       "      <td>A9422056</td>\n",
       "      <td>PAR</td>\n",
       "      <td>Temporal measure of symptom</td>\n",
       "      <td>[A3207571, A3210770, A3210776, A10891333, A108...</td>\n",
       "    </tr>\n",
       "  </tbody>\n",
       "</table>\n",
       "<p>3317422 rows × 4 columns</p>\n",
       "</div>"
      ],
      "text/plain": [
       "         FirstAUI  REL                              NAME  \\\n",
       "0        A0000641  CHD                            Sepsis   \n",
       "1        A0000641  PAR                            Sepsis   \n",
       "2        A0001632  CHD              Disease of esophagus   \n",
       "3        A0002116  CHD                           Arizona   \n",
       "4        A0002116  PAR                           Arizona   \n",
       "...           ...  ...                               ...   \n",
       "3317417  A9422052  PAR  Poisoning due to venomous spider   \n",
       "3317418  A9422054  CHD                  Sneezing symptom   \n",
       "3317419  A9422054  PAR                  Sneezing symptom   \n",
       "3317420  A9422056  CHD       Temporal measure of symptom   \n",
       "3317421  A9422056  PAR       Temporal measure of symptom   \n",
       "\n",
       "                                                 SecondAUI  \n",
       "0                                               [A2198561]  \n",
       "1        [A16562618, A16574374, A16574375, A16586214, A...  \n",
       "2                                     [A0911980, A0916973]  \n",
       "3                                               [A1263866]  \n",
       "4                                    [A30390551, A1245199]  \n",
       "...                                                    ...  \n",
       "3317417  [A3185832, A16955727, A3059224, A22807989, A23...  \n",
       "3317418                               [A2886675, A6929082]  \n",
       "3317419                                        [A22845861]  \n",
       "3317420                              [A22903942, A3749215]  \n",
       "3317421  [A3207571, A3210770, A3210776, A10891333, A108...  \n",
       "\n",
       "[3317422 rows x 4 columns]"
      ]
     },
     "execution_count": 27,
     "metadata": {},
     "output_type": "execute_result"
    }
   ],
   "source": [
    "result"
   ]
  },
  {
   "cell_type": "code",
   "execution_count": 61,
   "metadata": {},
   "outputs": [
    {
     "data": {
      "text/plain": [
       "['C5162542']"
      ]
     },
     "execution_count": 61,
     "metadata": {},
     "output_type": "execute_result"
    }
   ],
   "source": [
    "import ast\n",
    "ast.literal_eval(df['SecondCUI'][0])"
   ]
  },
  {
   "cell_type": "code",
   "execution_count": null,
   "metadata": {},
   "outputs": [],
   "source": [
    "MRCONSO.CODE is what we normalize to \n",
    "skip sequence variants"
   ]
  },
  {
   "cell_type": "code",
   "execution_count": null,
   "metadata": {},
   "outputs": [],
   "source": [
    "Try with Gene \n",
    "Try with Taxonomy\n",
    "Vocabulary or Semantic Group\n",
    "DiseaseOrPhenotypicFeature - MeSH and OMIM - Either one of those twos MR.SAB - OMIM or MESH "
   ]
  },
  {
   "cell_type": "code",
   "execution_count": null,
   "metadata": {},
   "outputs": [],
   "source": [
    "Same Query WHERE SAB = OMIM OR MESH"
   ]
  }
 ],
 "metadata": {
  "interpreter": {
   "hash": "88f2be0c1087c407cdeea31fb1f1ac66ae4b678d3b99c64e133bf2169fcf647c"
  },
  "kernelspec": {
   "display_name": "Python 3.8.10 ('nlp')",
   "language": "python",
   "name": "python3"
  },
  "language_info": {
   "codemirror_mode": {
    "name": "ipython",
    "version": 3
   },
   "file_extension": ".py",
   "mimetype": "text/x-python",
   "name": "python",
   "nbconvert_exporter": "python",
   "pygments_lexer": "ipython3",
   "version": "3.9.7"
  },
  "orig_nbformat": 4
 },
 "nbformat": 4,
 "nbformat_minor": 2
}
