{
 "cells": [
  {
   "cell_type": "code",
   "execution_count": 34,
   "metadata": {},
   "outputs": [],
   "source": [
    "import mysql.connector\n",
    "import pandas as pd"
   ]
  },
  {
   "cell_type": "code",
   "execution_count": 35,
   "metadata": {},
   "outputs": [],
   "source": [
    "query = (\"SELECT DISTINCT MRREL.AUI2, MRREL.AUI1, MRREL.REL, SAB FROM MRREL WHERE (REL = 'PAR' or REL='CHD') and SAB LIKE '%MSH%'\")\n",
    "\n",
    "conn = mysql.connector.connect(user='umls', password='umls', database='umls2019ab', host='138.26.120.27')\n",
    "cursor = conn.cursor()"
   ]
  },
  {
   "cell_type": "code",
   "execution_count": 36,
   "metadata": {},
   "outputs": [],
   "source": [
    "cursor.execute(query)"
   ]
  },
  {
   "cell_type": "code",
   "execution_count": 37,
   "metadata": {},
   "outputs": [],
   "source": [
    "total_relations_umls = []\n",
    "for x in cursor:\n",
    "    total_relations_umls.append(x)"
   ]
  },
  {
   "cell_type": "code",
   "execution_count": 39,
   "metadata": {},
   "outputs": [],
   "source": [
    "df = pd.DataFrame(total_relations_umls, columns =['FirstAUI', 'SecondAUI', 'REL','SAB'])"
   ]
  },
  {
   "cell_type": "code",
   "execution_count": 43,
   "metadata": {},
   "outputs": [],
   "source": [
    "query2 = (\"SELECT AUI, SAB, CODE, STR FROM MRCONSO WHERE SAB LIKE '%MSH%' and ISPREF = 'Y'\")"
   ]
  },
  {
   "cell_type": "code",
   "execution_count": 44,
   "metadata": {},
   "outputs": [],
   "source": [
    "cursor.execute(query2)"
   ]
  },
  {
   "cell_type": "code",
   "execution_count": 45,
   "metadata": {},
   "outputs": [],
   "source": [
    "names_of_CUIS = []\n",
    "for x in cursor:\n",
    "    names_of_CUIS.append(x)"
   ]
  },
  {
   "cell_type": "code",
   "execution_count": 46,
   "metadata": {},
   "outputs": [],
   "source": [
    "df2 = pd.DataFrame(names_of_CUIS, columns =['AUI', 'SAB', 'CODE','STR'])"
   ]
  },
  {
   "cell_type": "code",
   "execution_count": 49,
   "metadata": {},
   "outputs": [],
   "source": [
    "result = df.merge(df2, left_on=\"FirstAUI\", right_on=\"AUI\")"
   ]
  },
  {
   "cell_type": "code",
   "execution_count": 51,
   "metadata": {},
   "outputs": [],
   "source": [
    "result = result.drop(['SAB_x','SAB_y', 'AUI'], axis=1)"
   ]
  },
  {
   "cell_type": "code",
   "execution_count": 53,
   "metadata": {},
   "outputs": [],
   "source": [
    "result = result.merge(df2, left_on=\"SecondAUI\", right_on=\"AUI\")"
   ]
  },
  {
   "cell_type": "code",
   "execution_count": 55,
   "metadata": {},
   "outputs": [],
   "source": [
    "result = result.drop(['AUI','SAB', 'AUI'], axis=1)"
   ]
  },
  {
   "cell_type": "code",
   "execution_count": 57,
   "metadata": {},
   "outputs": [],
   "source": [
    "result.columns = ['FirstAUI', 'SecondAUI', 'REL', 'CODE_First', 'STR_First', 'CODE_Second','STR_Second']"
   ]
  },
  {
   "cell_type": "code",
   "execution_count": 59,
   "metadata": {},
   "outputs": [],
   "source": [
    "result = result.groupby(['CODE_First','REL', 'STR_First'])['CODE_Second'].apply(list).reset_index()"
   ]
  },
  {
   "cell_type": "code",
   "execution_count": 60,
   "metadata": {},
   "outputs": [
    {
     "data": {
      "text/html": [
       "<div>\n",
       "<style scoped>\n",
       "    .dataframe tbody tr th:only-of-type {\n",
       "        vertical-align: middle;\n",
       "    }\n",
       "\n",
       "    .dataframe tbody tr th {\n",
       "        vertical-align: top;\n",
       "    }\n",
       "\n",
       "    .dataframe thead th {\n",
       "        text-align: right;\n",
       "    }\n",
       "</style>\n",
       "<table border=\"1\" class=\"dataframe\">\n",
       "  <thead>\n",
       "    <tr style=\"text-align: right;\">\n",
       "      <th></th>\n",
       "      <th>CODE_First</th>\n",
       "      <th>REL</th>\n",
       "      <th>STR_First</th>\n",
       "      <th>CODE_Second</th>\n",
       "    </tr>\n",
       "  </thead>\n",
       "  <tbody>\n",
       "    <tr>\n",
       "      <th>0</th>\n",
       "      <td>D000001</td>\n",
       "      <td>CHD</td>\n",
       "      <td>Calcimycin</td>\n",
       "      <td>[D001583]</td>\n",
       "    </tr>\n",
       "    <tr>\n",
       "      <th>1</th>\n",
       "      <td>D000002</td>\n",
       "      <td>CHD</td>\n",
       "      <td>Temefos</td>\n",
       "      <td>[D063086]</td>\n",
       "    </tr>\n",
       "    <tr>\n",
       "      <th>2</th>\n",
       "      <td>D000003</td>\n",
       "      <td>CHD</td>\n",
       "      <td>Abattoirs</td>\n",
       "      <td>[D000072499, D008462]</td>\n",
       "    </tr>\n",
       "    <tr>\n",
       "      <th>3</th>\n",
       "      <td>D000004</td>\n",
       "      <td>CHD</td>\n",
       "      <td>Abbreviations as Topic</td>\n",
       "      <td>[D009275]</td>\n",
       "    </tr>\n",
       "    <tr>\n",
       "      <th>4</th>\n",
       "      <td>D000007</td>\n",
       "      <td>PAR</td>\n",
       "      <td>Abdominal Injuries</td>\n",
       "      <td>[D013161, D006549, D013275]</td>\n",
       "    </tr>\n",
       "    <tr>\n",
       "      <th>...</th>\n",
       "      <td>...</td>\n",
       "      <td>...</td>\n",
       "      <td>...</td>\n",
       "      <td>...</td>\n",
       "    </tr>\n",
       "    <tr>\n",
       "      <th>19948</th>\n",
       "      <td>U000020</td>\n",
       "      <td>PAR</td>\n",
       "      <td>Publication Type</td>\n",
       "      <td>[U000023]</td>\n",
       "    </tr>\n",
       "    <tr>\n",
       "      <th>19949</th>\n",
       "      <td>U000021</td>\n",
       "      <td>CHD</td>\n",
       "      <td>Check Tag</td>\n",
       "      <td>[U000017]</td>\n",
       "    </tr>\n",
       "    <tr>\n",
       "      <th>19950</th>\n",
       "      <td>U000021</td>\n",
       "      <td>PAR</td>\n",
       "      <td>Check Tag</td>\n",
       "      <td>[D005260, D008297]</td>\n",
       "    </tr>\n",
       "    <tr>\n",
       "      <th>19951</th>\n",
       "      <td>U000023</td>\n",
       "      <td>CHD</td>\n",
       "      <td>Publication Characteristics</td>\n",
       "      <td>[U000020]</td>\n",
       "    </tr>\n",
       "    <tr>\n",
       "      <th>19952</th>\n",
       "      <td>U000023</td>\n",
       "      <td>PAR</td>\n",
       "      <td>Publication Characteristics</td>\n",
       "      <td>[D052181, D052182, D052288]</td>\n",
       "    </tr>\n",
       "  </tbody>\n",
       "</table>\n",
       "<p>19953 rows × 4 columns</p>\n",
       "</div>"
      ],
      "text/plain": [
       "      CODE_First  REL                    STR_First  \\\n",
       "0        D000001  CHD                   Calcimycin   \n",
       "1        D000002  CHD                      Temefos   \n",
       "2        D000003  CHD                    Abattoirs   \n",
       "3        D000004  CHD       Abbreviations as Topic   \n",
       "4        D000007  PAR           Abdominal Injuries   \n",
       "...          ...  ...                          ...   \n",
       "19948    U000020  PAR             Publication Type   \n",
       "19949    U000021  CHD                    Check Tag   \n",
       "19950    U000021  PAR                    Check Tag   \n",
       "19951    U000023  CHD  Publication Characteristics   \n",
       "19952    U000023  PAR  Publication Characteristics   \n",
       "\n",
       "                       CODE_Second  \n",
       "0                        [D001583]  \n",
       "1                        [D063086]  \n",
       "2            [D000072499, D008462]  \n",
       "3                        [D009275]  \n",
       "4      [D013161, D006549, D013275]  \n",
       "...                            ...  \n",
       "19948                    [U000023]  \n",
       "19949                    [U000017]  \n",
       "19950           [D005260, D008297]  \n",
       "19951                    [U000020]  \n",
       "19952  [D052181, D052182, D052288]  \n",
       "\n",
       "[19953 rows x 4 columns]"
      ]
     },
     "execution_count": 60,
     "metadata": {},
     "output_type": "execute_result"
    }
   ],
   "source": [
    "result"
   ]
  },
  {
   "cell_type": "code",
   "execution_count": 61,
   "metadata": {},
   "outputs": [],
   "source": [
    "result.to_csv('UMLSgraph.csv')"
   ]
  },
  {
   "cell_type": "code",
   "execution_count": 62,
   "metadata": {},
   "outputs": [],
   "source": [
    "query2 = (\"SELECT AUI, SAB, CODE, STR FROM MRCONSO WHERE SAB LIKE '%MSH%' and ISPREF = 'Y'\")"
   ]
  },
  {
   "cell_type": "code",
   "execution_count": 63,
   "metadata": {},
   "outputs": [],
   "source": [
    "cursor.execute(query2)"
   ]
  },
  {
   "cell_type": "code",
   "execution_count": 64,
   "metadata": {},
   "outputs": [],
   "source": [
    "names_of_CUIS = []\n",
    "for x in cursor:\n",
    "    names_of_CUIS.append(x)"
   ]
  },
  {
   "cell_type": "code",
   "execution_count": 65,
   "metadata": {},
   "outputs": [],
   "source": [
    "df2 = pd.DataFrame(names_of_CUIS, columns =['AUI', 'SAB', 'CODE','STR'])"
   ]
  },
  {
   "cell_type": "code",
   "execution_count": 67,
   "metadata": {},
   "outputs": [],
   "source": [
    "with open('MSHVocab.txt', 'w') as f:\n",
    "    for i,v in df2.iterrows():\n",
    "        f.write(f'{v[\"CODE\"]}||{v[\"STR\"]}\\n')"
   ]
  },
  {
   "cell_type": "code",
   "execution_count": null,
   "metadata": {},
   "outputs": [],
   "source": []
  }
 ],
 "metadata": {
  "interpreter": {
   "hash": "88f2be0c1087c407cdeea31fb1f1ac66ae4b678d3b99c64e133bf2169fcf647c"
  },
  "kernelspec": {
   "display_name": "Python 3.9.7 ('nlp')",
   "language": "python",
   "name": "python3"
  },
  "language_info": {
   "codemirror_mode": {
    "name": "ipython",
    "version": 3
   },
   "file_extension": ".py",
   "mimetype": "text/x-python",
   "name": "python",
   "nbconvert_exporter": "python",
   "pygments_lexer": "ipython3",
   "version": "3.9.7"
  },
  "orig_nbformat": 4
 },
 "nbformat": 4,
 "nbformat_minor": 2
}
