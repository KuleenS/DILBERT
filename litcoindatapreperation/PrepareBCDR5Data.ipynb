{
 "cells": [
  {
   "cell_type": "code",
   "execution_count": 19,
   "metadata": {},
   "outputs": [],
   "source": [
    "import xml.etree.ElementTree as ET\n"
   ]
  },
  {
   "cell_type": "code",
   "execution_count": 20,
   "metadata": {},
   "outputs": [],
   "source": [
    "def process_data(data):\n",
    "    tree = ET.parse(data)\n",
    "    root = tree.getroot()\n",
    "    for doc in root.findall('document'):\n",
    "        id = doc.find('id').text\n",
    "        file_name = f'../prepared_data/{id}.concept'\n",
    "        with open(file_name, 'w') as f:\n",
    "            for passage in doc.findall('passage'):\n",
    "                for annotation in passage.findall('annotation'):\n",
    "                    infon_tags = annotation.findall('infon')\n",
    "                    type = infon_tags[0].text\n",
    "                    tag = infon_tags[1].text\n",
    "\n",
    "                    location_tag = annotation.find('location')\n",
    "                    offset = int(location_tag.get('offset'))\n",
    "                    length = int(location_tag.get('length'))\n",
    "                    end = offset+length\n",
    "\n",
    "                    text = annotation.find('text').text\n",
    "                    f.write(f'{id}||{offset}|{end}||{type}||{text}||{tag}\\n')\n",
    "\n"
   ]
  },
  {
   "cell_type": "code",
   "execution_count": 21,
   "metadata": {},
   "outputs": [],
   "source": [
    "data = [\n",
    "    '../data/CDR_Data/CDR.Corpus.v010516/CDR_DevelopmentSet.BioC.xml',\n",
    "    '../data/CDR_Data/CDR.Corpus.v010516/CDR_TestSet.BioC.xml',\n",
    "    '../data/CDR_Data/CDR.Corpus.v010516/CDR_TrainingSet.BioC.xml'\n",
    "]\n",
    "\n",
    "for path in data: \n",
    "    process_data(path)"
   ]
  }
 ],
 "metadata": {
  "kernelspec": {
   "display_name": "Python 3.9.7 ('dilbert')",
   "language": "python",
   "name": "python3"
  },
  "language_info": {
   "codemirror_mode": {
    "name": "ipython",
    "version": 3
   },
   "file_extension": ".py",
   "mimetype": "text/x-python",
   "name": "python",
   "nbconvert_exporter": "python",
   "pygments_lexer": "ipython3",
   "version": "3.9.7"
  },
  "orig_nbformat": 4,
  "vscode": {
   "interpreter": {
    "hash": "644491857d503dc3a2a6e34820dd92fdb3e50021a4ef8e6572feccbaf24fc82b"
   }
  }
 },
 "nbformat": 4,
 "nbformat_minor": 2
}
