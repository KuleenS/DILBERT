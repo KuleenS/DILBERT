{
 "cells": [
  {
   "cell_type": "code",
   "execution_count": 1,
   "metadata": {},
   "outputs": [],
   "source": [
    "import pandas as pd"
   ]
  },
  {
   "cell_type": "code",
   "execution_count": 3,
   "metadata": {},
   "outputs": [],
   "source": [
    "entities_train = pd.read_csv('../data/LITCOIN/entities_train.csv', sep='\\t')\n",
    "entities_test = pd.read_csv('../data/LITCOIN/entities_test.csv', sep='\\t')"
   ]
  },
  {
   "cell_type": "code",
   "execution_count": 5,
   "metadata": {},
   "outputs": [],
   "source": [
    "for abstract_id in entities_train.abstract_id.unique():\n",
    "    temp_df = entities_train[entities_train.abstract_id == abstract_id]\n",
    "    with open(f'../data/LITCOINDILBERTPREPARED/train/{abstract_id}.concept', 'w') as f:\n",
    "        for i,v in temp_df.iterrows():\n",
    "            if v['type']=='DiseaseOrPhenotypicFeature':\n",
    "                f.write(f\"{abstract_id}||{v['offset_start']}|{v['offset_finish']}||{v['type']}||{v['mention']}||{v['entity_ids']}\\n\")"
   ]
  },
  {
   "cell_type": "code",
   "execution_count": 6,
   "metadata": {},
   "outputs": [],
   "source": [
    "for abstract_id in entities_test.abstract_id.unique():\n",
    "    temp_df = entities_test[entities_test.abstract_id == abstract_id]\n",
    "    with open(f'../data/LITCOINDILBERTPREPARED/test/{abstract_id}.concept', 'w') as f:\n",
    "        for i,v in temp_df.iterrows():\n",
    "            if v['type']=='DiseaseOrPhenotypicFeature':\n",
    "                f.write(f\"{abstract_id}||{v['offset_start']}|{v['offset_finish']}||{v['type']}||{v['mention']}||{v['entity_ids']}\\n\")"
   ]
  },
  {
   "cell_type": "code",
   "execution_count": null,
   "metadata": {},
   "outputs": [],
   "source": []
  }
 ],
 "metadata": {
  "interpreter": {
   "hash": "88f2be0c1087c407cdeea31fb1f1ac66ae4b678d3b99c64e133bf2169fcf647c"
  },
  "kernelspec": {
   "display_name": "Python 3.9.7 ('nlp')",
   "language": "python",
   "name": "python3"
  },
  "language_info": {
   "codemirror_mode": {
    "name": "ipython",
    "version": 3
   },
   "file_extension": ".py",
   "mimetype": "text/x-python",
   "name": "python",
   "nbconvert_exporter": "python",
   "pygments_lexer": "ipython3",
   "version": "3.9.7"
  },
  "orig_nbformat": 4
 },
 "nbformat": 4,
 "nbformat_minor": 2
}
